{
  "nbformat": 4,
  "nbformat_minor": 0,
  "metadata": {
    "colab": {
      "name": "Decison Tree Algorithm.ipynb",
      "provenance": [],
      "collapsed_sections": [
        "BrPdxoqsqWcC",
        "0LwDk2Ctuupw",
        "d6_xJSlb2JOH",
        "2aOugVTzuQCh"
      ],
      "authorship_tag": "ABX9TyNLeOGUtlLgpimB6dEgEZhK",
      "include_colab_link": true
    },
    "kernelspec": {
      "name": "python3",
      "display_name": "Python 3"
    },
    "language_info": {
      "name": "python"
    }
  },
  "cells": [
    {
      "cell_type": "markdown",
      "metadata": {
        "id": "view-in-github",
        "colab_type": "text"
      },
      "source": [
        "<a href=\"https://colab.research.google.com/github/Thanveerahmd/Data-Minning/blob/main/Decison_Tree_Algorithm.ipynb\" target=\"_parent\"><img src=\"https://colab.research.google.com/assets/colab-badge.svg\" alt=\"Open In Colab\"/></a>"
      ]
    },
    {
      "cell_type": "code",
      "metadata": {
        "id": "4hFqMMieO-FC"
      },
      "source": [
        "import math\n",
        "\n",
        "def ENTROPY(n,m) :\n",
        "\n",
        "  if(n == 0 or m == 0):\n",
        "    return 0.0\n",
        "\n",
        "  p = n/(n+m)\n",
        "  return  -(p* math.log2(p)+(1.0-p)* math.log2(1.0-p))"
      ],
      "execution_count": null,
      "outputs": []
    },
    {
      "cell_type": "markdown",
      "metadata": {
        "id": "BrPdxoqsqWcC"
      },
      "source": [
        "# Attribute Selection: Information Gain"
      ]
    },
    {
      "cell_type": "code",
      "metadata": {
        "colab": {
          "base_uri": "https://localhost:8080/"
        },
        "id": "COh-SZa3Yixz",
        "outputId": "613a9475-5974-4dea-e5aa-0801511e1882"
      },
      "source": [
        "D = list(map(int, input(\"D class compostion: \").split()))\n",
        "\n",
        "info_D = ENTROPY(D[0],D[1])\n",
        "n = int(input('Enter number of features :'))\n",
        "\n",
        "for x in range(n):\n",
        "  \n",
        "  attributes = list(map(int, input(\"attribute \"+str(x+1)+\" in D class compostion: \").split()))\n",
        "  info_attributes = []\n",
        "  gain_attributes = []\n",
        "\n",
        "  if(sum(D) != sum(attributes)):\n",
        "    print('error')\n",
        "    break\n",
        "\n",
        "  for m in range(len(attributes)//2):\n",
        "    q = m*2 \n",
        "    p = (attributes[q]+attributes[q+1]) /sum(attributes) \n",
        "    gain_attributes.append(ENTROPY(attributes[q],attributes[q+1]))\n",
        "    info_attributes.append(p*ENTROPY(attributes[q],attributes[q+1]))\n",
        "\n",
        "  info_attribute = sum(info_attributes)\n",
        "  gain_attribute = info_D - info_attribute\n",
        "  \n",
        "  print('')\n",
        "  print('Info_D feature'+str(x+1)+' is '+ str(info_D))\n",
        "  print('gain_attributes for feature'+str(x+1)+' ')\n",
        "  print(gain_attributes)\n",
        "  print('info_attributes for feature'+str(x+1)+' ')\n",
        "  print(info_attributes)\n",
        "  print('info of feature'+str(x+1)+' is '+ str(info_attribute))\n",
        "  print('Gain of feature'+str(x+1)+' is '+ str(gain_attribute))\n",
        "  print('')\n"
      ],
      "execution_count": null,
      "outputs": [
        {
          "output_type": "stream",
          "name": "stdout",
          "text": [
            "D class compostion: 9 5\n",
            "Enter number of features :4\n",
            "attribute 1 in D class compostion: 2 3 4 0 3 2\n",
            "\n",
            "Info_D feature1 is 0.9402859586706309\n",
            "gain_attributes for feature1 \n",
            "[0.9709505944546686, 0.0, 0.9709505944546686]\n",
            "info_attributes for feature1 \n",
            "[0.3467680694480959, 0.0, 0.3467680694480959]\n",
            "info of feature1 is 0.6935361388961918\n",
            "Gain of feature1 is 0.2467498197744391\n",
            "\n",
            "attribute 2 in D class compostion: 2 2 4 2 3 1\n",
            "\n",
            "Info_D feature2 is 0.9402859586706309\n",
            "gain_attributes for feature2 \n",
            "[1.0, 0.9182958340544896, 0.8112781244591328]\n",
            "info_attributes for feature2 \n",
            "[0.2857142857142857, 0.39355535745192405, 0.23179374984546652]\n",
            "info of feature2 is 0.9110633930116763\n",
            "Gain of feature2 is 0.029222565658954647\n",
            "\n",
            "attribute 3 in D class compostion: 6 1 3 4\n",
            "\n",
            "Info_D feature3 is 0.9402859586706309\n",
            "gain_attributes for feature3 \n",
            "[0.5916727785823275, 0.9852281360342515]\n",
            "info_attributes for feature3 \n",
            "[0.29583638929116374, 0.49261406801712576]\n",
            "info of feature3 is 0.7884504573082896\n",
            "Gain of feature3 is 0.15183550136234136\n",
            "\n",
            "attribute 4 in D class compostion:  6 2 3 3\n",
            "\n",
            "Info_D feature4 is 0.9402859586706309\n",
            "gain_attributes for feature4 \n",
            "[0.8112781244591328, 1.0]\n",
            "info_attributes for feature4 \n",
            "[0.46358749969093305, 0.42857142857142855]\n",
            "info of feature4 is 0.8921589282623617\n",
            "Gain of feature4 is 0.04812703040826927\n",
            "\n"
          ]
        }
      ]
    },
    {
      "cell_type": "markdown",
      "metadata": {
        "id": "0LwDk2Ctuupw"
      },
      "source": [
        "# Gain Ratio for Attribute Selection C4.5\n"
      ]
    },
    {
      "cell_type": "code",
      "metadata": {
        "colab": {
          "base_uri": "https://localhost:8080/"
        },
        "id": "JyEA0z8quzhf",
        "outputId": "e4a73f1b-031d-4bc4-896e-2d2fe175d896"
      },
      "source": [
        "D = list(map(int, input(\"D class compostion: \").split()))\n",
        "\n",
        "info_D = ENTROPY(D[0],D[1])\n",
        "n = int(input('Enter number of features :'))\n",
        "\n",
        "for x in range(n):\n",
        "  \n",
        "  attributes = list(map(int, input(\"attribute in D class compostion: \").split()))\n",
        "  info_attributes = []\n",
        "  split_info_attributes = []\n",
        "\n",
        "  if(sum(D) != sum(attributes)):\n",
        "    print('error')\n",
        "    break\n",
        "\n",
        "  for m in range(len(attributes)//2):\n",
        "    q = m*2 \n",
        "    p = (attributes[q]+attributes[q+1]) /sum(attributes) \n",
        "\n",
        "    if(p == 0):\n",
        "      split_info = 0 \n",
        "    else: \n",
        "      split_info = -(p* math.log2(p))\n",
        "\n",
        "    split_info_attributes.append(split_info)\n",
        "    info_attributes.append(p*ENTROPY(attributes[q],attributes[q+1]))\n",
        "\n",
        "\n",
        "  info_feature = sum(info_attributes)\n",
        "  split_info_feature = sum(split_info_attributes)\n",
        "  gain_feature = info_D - info_feature\n",
        "  gain_feature_ratio = gain_feature/split_info_feature\n",
        "  \n",
        "  print('')\n",
        "  print('Info_D is '+ str(info_D))\n",
        "  print('info_attributes  ......................... ')\n",
        "  print(info_attributes)\n",
        "  print('split_info_attributes  ......................... ')\n",
        "  print(split_info_attributes)\n",
        "  print('info of feature is '+ str(info_feature))\n",
        "  print('Gain of feature is '+ str(gain_feature))\n",
        "  print('split info of feature is '+ str(split_info_feature))\n",
        "  print('Gain ratio of feature is '+ str(gain_feature_ratio))\n",
        "  print('')"
      ],
      "execution_count": null,
      "outputs": [
        {
          "output_type": "stream",
          "text": [
            "D class compostion: 10 6\n",
            "Enter number of features :3\n",
            "attribute D class compostion: 6 2 4 4\n",
            "\n",
            "Info_D is 0.9544340029249649\n",
            "info_attributes  ......................... \n",
            "[0.4056390622295664, 0.5]\n",
            "split_info_attributes  ......................... \n",
            "[0.5, 0.5]\n",
            "info of feature is 0.9056390622295665\n",
            "Gain of feature is 0.04879494069539847\n",
            "split info of feature is 1.0\n",
            "Gain ratio of feature is 0.04879494069539847\n",
            "\n",
            "attribute D class compostion: 3 0 2 4 5 2\n",
            "\n",
            "Info_D is 0.9544340029249649\n",
            "info_attributes  ......................... \n",
            "[0.0, 0.3443609377704336, 0.3776152487479011]\n",
            "split_info_attributes  ......................... \n",
            "[0.45281953111478324, 0.5306390622295665, 0.5217822215997981]\n",
            "info of feature is 0.7219761865183347\n",
            "Gain of feature is 0.2324578164066302\n",
            "split info of feature is 1.5052408149441479\n",
            "Gain ratio of feature is 0.1544323101651051\n",
            "\n",
            "attribute D class compostion: 7 3 3 3\n",
            "\n",
            "Info_D is 0.9544340029249649\n",
            "info_attributes  ......................... \n",
            "[0.5508068120191829, 0.375]\n",
            "split_info_attributes  ......................... \n",
            "[0.42379494069539847, 0.5306390622295665]\n",
            "info of feature is 0.9258068120191829\n",
            "Gain of feature is 0.02862719090578203\n",
            "split info of feature is 0.9544340029249649\n",
            "Gain ratio of feature is 0.0299938925248377\n",
            "\n"
          ],
          "name": "stdout"
        }
      ]
    },
    {
      "cell_type": "markdown",
      "metadata": {
        "id": "d6_xJSlb2JOH"
      },
      "source": [
        "# Gini index (CART, IBM IntelligentMiner)"
      ]
    },
    {
      "cell_type": "code",
      "metadata": {
        "id": "Hi2N_0nV2M95"
      },
      "source": [
        "import math\n",
        "\n",
        "def Gini(n,m) :\n",
        "\n",
        "  if(n == 0 or m == 0):\n",
        "    return 0.0\n",
        "\n",
        "  p = n/(n+m)\n",
        "  return  (1 -(pow(p,2) + pow(1.0-p,2)))"
      ],
      "execution_count": null,
      "outputs": []
    },
    {
      "cell_type": "code",
      "metadata": {
        "colab": {
          "base_uri": "https://localhost:8080/"
        },
        "id": "kOfl69BN4P15",
        "outputId": "cdf9acef-ce48-405c-9deb-75a6848b045d"
      },
      "source": [
        "D = list(map(int, input(\"D class compostion: \").split()))\n",
        "\n",
        "gini_D = Gini(D[0],D[1])\n",
        "n = int(input('Enter number of features :'))\n",
        "\n",
        "for x in range(n):\n",
        "  \n",
        "  attributes = list(map(int, input(\"attribute D class compostion: \").split()))\n",
        "  info_attributes = []\n",
        "  gini_attributes = []\n",
        "\n",
        "  if(sum(D) != sum(attributes)):\n",
        "    print('error')\n",
        "    break\n",
        "\n",
        "  for m in range(len(attributes)//2):\n",
        "    q = m*2 \n",
        "    p = (attributes[q]+attributes[q+1]) /sum(attributes) \n",
        "    info_attributes.append(p*Gini(attributes[q],attributes[q+1]))\n",
        "    gini_attributes.(Gini(attributes[q],attributes[q+1]))\n",
        "\n",
        "  info_attribute = sum(info_attributes)\n",
        "  gini_diff = gini_D - info_attribute\n",
        "  \n",
        "  print(\"\")\n",
        "  print('gini_D is '+ str(gini_D))\n",
        "  print('gini info')\n",
        "  print(gini_attributes)\n",
        "  print('gini info_attributes ')\n",
        "  print(info_attributes)\n",
        "  print('gini imputrity of feature is '+ str(info_attribute))\n",
        "  #print('gini index  of feature is '+ str(gini_diff))\n",
        "  print(\"\")\n",
        "\n"
      ],
      "execution_count": null,
      "outputs": [
        {
          "output_type": "stream",
          "text": [
            "D class compostion: 5 9\n",
            "Enter number of features :1\n",
            "attribute D class compostion: 2 3 4 0 3 2\n",
            "\n",
            "gini_D is 0.4591836734693878\n",
            "gini info\n",
            "[0.48, 0.0, 0.48]\n",
            "gini info_attributes \n",
            "[0.17142857142857143, 0.0, 0.17142857142857143]\n",
            "gini imputrity of feature is 0.34285714285714286\n",
            "gini index  of feature is 0.11632653061224496\n",
            "\n"
          ],
          "name": "stdout"
        }
      ]
    },
    {
      "cell_type": "markdown",
      "metadata": {
        "id": "2aOugVTzuQCh"
      },
      "source": [
        "# Probabilities from contnous data "
      ]
    },
    {
      "cell_type": "code",
      "metadata": {
        "id": "7jifmuKduV0L"
      },
      "source": [
        "import math\n",
        "\n",
        "def Continous_probability(list,avg,var):\n",
        "  probabilities = []\n",
        "  for x in list:\n",
        "    exponent = - (pow((x-avg), 2)) / (2*(var))\n",
        "    partial = 1 / (math.sqrt(2*math.pi*var)) \n",
        "    p =  partial*math.exp(exponent)\n",
        "    probabilities.append(p)\n",
        "  \n",
        "  return probabilities"
      ],
      "execution_count": null,
      "outputs": []
    },
    {
      "cell_type": "code",
      "metadata": {
        "colab": {
          "base_uri": "https://localhost:8080/"
        },
        "id": "WOa-Dkh-uaQa",
        "outputId": "db11840d-cd80-4637-9a6b-2fa5bb2e7b25"
      },
      "source": [
        "lst = list(map(int, input(\"D class compostion: \").split()))\n",
        "probabilities = []\n",
        "avg = sum(lst) / len(lst)\n",
        "var = sum((x-avg)**2 for x in lst) / (len(lst) -1)\n",
        "print(avg)\n",
        "print(var)\n",
        "probabilities = Continous_probability(lst,avg,var)\n",
        "\n",
        "for i in range(len(probabilities)):\n",
        "  print('probality of '+str(lst[i])+' is '+str(probabilities[i]))"
      ],
      "execution_count": null,
      "outputs": [
        {
          "output_type": "stream",
          "text": [
            "D class compostion: 125 100 70 120 60 220 75\n",
            "110.0\n",
            "2975.0\n",
            "probality of 125 is 0.0070427728315149\n",
            "probality of 100 is 0.007192295359419549\n",
            "probality of 70 is 0.005589610036170942\n",
            "probality of 120 is 0.007192295359419549\n",
            "probality of 60 is 0.004804961450304904\n",
            "probality of 220 is 0.0009571488527694263\n",
            "probality of 75 is 0.005953234789016256\n"
          ],
          "name": "stdout"
        }
      ]
    },
    {
      "cell_type": "markdown",
      "metadata": {
        "id": "qLNE_S3rvMq8"
      },
      "source": [
        "#cluster"
      ]
    },
    {
      "cell_type": "code",
      "metadata": {
        "id": "B4T9s3GAvPK5"
      },
      "source": [
        "lst = list(map(int, input(\"3 points: \").split()))\n",
        "\n",
        "\n",
        "dist1 = (abs(lst[3]-lst[0]) +abs(lst[4]-lst[1])+abs(lst[5]-lst[2]) )\n",
        "dist2 = (abs(lst[6]-lst[0]) +abs(lst[7]-lst[1])+abs(lst[8]-lst[2]) )\n",
        "\n",
        "print(dist1)\n",
        "print(dist2)"
      ],
      "execution_count": null,
      "outputs": []
    },
    {
      "cell_type": "code",
      "metadata": {
        "id": "C2GLizutPYX_"
      },
      "source": [
        "lst = list(map(int, input(\"2 points: \").split()))\n",
        "\n",
        "\n",
        "dist1 = (abs(lst[3]-lst[0]) +abs(lst[4]-lst[1])+abs(lst[5]-lst[2]) )\n",
        "dist2 = (abs(lst[6]-lst[0]) +abs(lst[7]-lst[1])+abs(lst[8]-lst[2]) )\n",
        "\n",
        "print(dist1)\n",
        "print(dist2)"
      ],
      "execution_count": null,
      "outputs": []
    },
    {
      "cell_type": "code",
      "metadata": {
        "colab": {
          "base_uri": "https://localhost:8080/"
        },
        "id": "QUX_ZC6J0zBg",
        "outputId": "48f2a618-8bd3-41d5-a992-de1703ce8455"
      },
      "source": [
        "lst = list(map(int, input(\"D class compostion: \").split()))\n",
        "\n",
        "x = 0.0\n",
        "y = 0.0\n",
        "z = 0.0\n",
        "\n",
        "for m in range(len(lst)//3):\n",
        "    q = m*3\n",
        "    x += lst[q]\n",
        "    y += lst[q+1]\n",
        "    z += lst[q+2] \n",
        "\n",
        "print(x/len(lst)) \n",
        "print(y/len(lst)) \n",
        "print(z/len(lst)) "
      ],
      "execution_count": null,
      "outputs": [
        {
          "output_type": "stream",
          "text": [
            "D class compostion: 148 72 35 197 70 45  189 60 23 166 72 19  118 84 47 126 88 41\n",
            "52.44444444444444\n",
            "24.77777777777778\n",
            "11.666666666666666\n"
          ],
          "name": "stdout"
        }
      ]
    }
  ]
}